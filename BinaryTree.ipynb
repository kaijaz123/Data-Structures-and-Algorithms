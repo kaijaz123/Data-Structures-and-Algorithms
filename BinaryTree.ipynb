{
 "cells": [
  {
   "cell_type": "code",
   "execution_count": 109,
   "metadata": {},
   "outputs": [],
   "source": [
    "class BinaryTree():\n",
    "    class BinaryTreeNode():\n",
    "        def __init__(self,leftchildnode,rightchildnode,item):\n",
    "            self.leftchildnode = leftchildnode\n",
    "            self.rightchildnode = rightchildnode\n",
    "            self.item = item\n",
    "    \n",
    "    def __init__(self):\n",
    "        self.root = None\n",
    "        \n",
    "    def setRoot(self,item):\n",
    "        self.cur = self.BinaryTreeNode(None,None,item)\n",
    "        self.root = self.cur\n",
    "    \n",
    "    def attachLeft(self,item):\n",
    "        self.left = self.BinaryTreeNode(self.root.leftchildnode,None,item)\n",
    "        self.root.leftchildnode = self.left\n",
    "    \n",
    "    def attachRight(self,item):\n",
    "        self.right = self.BinaryTreeNode(None,self.root.rightchildnode,item)\n",
    "        self.root.rightchildnode = self.right\n",
    "    \n",
    "    def attachLeftSub(self,BinaryTree):\n",
    "        self.root.leftchildnode = BinaryTree.root\n",
    "        \n",
    "    def attachRightSub(self,BinaryTree):\n",
    "        self.root.rightchildnode = BinaryTree.root\n",
    "    \n",
    "    def inorderdisplay(self):\n",
    "        self.recursive_inorder_display(self.root)\n",
    "\n",
    "    def preorderdisplay(self):\n",
    "        self.recursive_preorder_display(self.root)\n",
    "\n",
    "    def postorderdisplay(self):\n",
    "        self.recursive_postorder_display(self.root)\n",
    "    \n",
    "    def recursive_inorder_display(self,BinaryTreeNode):\n",
    "        if BinaryTreeNode != None:\n",
    "            self.recursive_inorder_display(BinaryTreeNode.leftchildnode)\n",
    "            print(BinaryTreeNode.item)\n",
    "            self.recursive_inorder_display(BinaryTreeNode.rightchildnode)\n",
    "    \n",
    "    def recursive_preorder_display(self,BinaryTreeNode):\n",
    "        if BinaryTreeNode != None:\n",
    "            print(BinaryTreeNode.item)\n",
    "            self.recursive_inorder_display(BinaryTreeNode.leftchildnode)\n",
    "            self.recursive_inorder_display(BinaryTreeNode.rightchildnode)\n",
    "            \n",
    "    def recursive_postorder_display(self,BinaryTreeNode):\n",
    "        if BinaryTreeNode != None:\n",
    "            self.recursive_inorder_display(BinaryTreeNode.leftchildnode)\n",
    "            self.recursive_inorder_display(BinaryTreeNode.rightchildnode)\n",
    "            print(BinaryTreeNode.item)"
   ]
  },
  {
   "cell_type": "code",
   "execution_count": 98,
   "metadata": {},
   "outputs": [
    {
     "name": "stdout",
     "output_type": "stream",
     "text": [
      "B\n",
      "A\n",
      "C\n"
     ]
    }
   ],
   "source": [
    "test = BinaryTree()\n",
    "test.setRoot(\"A\")\n",
    "test.attachLeft(\"B\")\n",
    "test.attachRight(\"C\")\n",
    "test.inorderdisplay()"
   ]
  },
  {
   "cell_type": "code",
   "execution_count": 110,
   "metadata": {},
   "outputs": [
    {
     "name": "stdout",
     "output_type": "stream",
     "text": [
      "E\n",
      "D\n",
      "F\n",
      "H\n",
      "G\n",
      "I\n",
      "J\n"
     ]
    }
   ],
   "source": [
    "tree = BinaryTree()\n",
    "tree.setRoot(\"J\")\n",
    "tree1 = BinaryTree()\n",
    "tree1.setRoot(\"D\")\n",
    "tree1.attachLeft(\"E\")\n",
    "tree1.attachRight(\"F\")\n",
    "tree2 = BinaryTree()\n",
    "tree2.setRoot(\"G\")\n",
    "tree2.attachLeft(\"H\")\n",
    "tree2.attachRight(\"I\")\n",
    "tree.attachLeftSub(tree1)\n",
    "tree.attachRightSub(tree2)\n",
    "tree.postorderdisplay()"
   ]
  }
 ],
 "metadata": {
  "kernelspec": {
   "display_name": "Python 3",
   "language": "python",
   "name": "python3"
  },
  "language_info": {
   "codemirror_mode": {
    "name": "ipython",
    "version": 3
   },
   "file_extension": ".py",
   "mimetype": "text/x-python",
   "name": "python",
   "nbconvert_exporter": "python",
   "pygments_lexer": "ipython3",
   "version": "3.6.10"
  }
 },
 "nbformat": 4,
 "nbformat_minor": 4
}
