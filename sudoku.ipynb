{
 "cells": [
  {
   "cell_type": "code",
   "execution_count": 1,
   "metadata": {},
   "outputs": [],
   "source": [
    "import numpy as np"
   ]
  },
  {
   "cell_type": "code",
   "execution_count": 8,
   "metadata": {},
   "outputs": [],
   "source": [
    "board = [\n",
    "    [7,8,0,4,0,0,1,2,0],\n",
    "    [6,0,0,0,7,5,0,0,9],\n",
    "    [0,0,0,6,0,1,0,7,8],\n",
    "    [0,0,7,0,4,0,2,6,0],\n",
    "    [0,0,1,0,5,0,9,3,0],\n",
    "    [9,0,4,0,6,0,0,0,5],\n",
    "    [0,7,0,3,0,0,0,1,2],\n",
    "    [1,2,0,0,0,7,4,0,0],\n",
    "    [0,4,9,2,0,6,0,0,7]\n",
    "]"
   ]
  },
  {
   "cell_type": "code",
   "execution_count": 3,
   "metadata": {},
   "outputs": [],
   "source": [
    "def possible(row,column,board,value):\n",
    "    for x  in range(0,9):\n",
    "        if board[row][x] == value or board[x][column] == value:\n",
    "            return False\n",
    "    \n",
    "    row = (row//3)*3\n",
    "    column = (column//3)*3\n",
    "    for i in range(row,row+3):\n",
    "        for j in range(column,column+3):\n",
    "            if board[i][j] == value:\n",
    "                return False\n",
    "    return True"
   ]
  },
  {
   "cell_type": "code",
   "execution_count": 9,
   "metadata": {},
   "outputs": [],
   "source": [
    "def solve():\n",
    "    for x in range(9):\n",
    "        for y in range(9):\n",
    "            if board[x][y] == 0:\n",
    "                for z in range(1,10):\n",
    "                    if possible(x,y,board,z):\n",
    "                        board[x][y] = z\n",
    "                        solve()\n",
    "                        board[x][y] = 0\n",
    "                return\n",
    "    \n",
    "    print(np.matrix(board))"
   ]
  },
  {
   "cell_type": "code",
   "execution_count": 12,
   "metadata": {},
   "outputs": [
    {
     "name": "stdout",
     "output_type": "stream",
     "text": [
      "[[7 8 5 4 3 9 1 2 6]\n",
      " [6 1 2 8 7 5 3 4 9]\n",
      " [4 9 3 6 2 1 5 7 8]\n",
      " [8 5 7 9 4 3 2 6 1]\n",
      " [2 6 1 7 5 8 9 3 4]\n",
      " [9 3 4 1 6 2 7 8 5]\n",
      " [5 7 8 3 9 4 6 1 2]\n",
      " [1 2 6 5 8 7 4 9 3]\n",
      " [3 4 9 2 1 6 8 5 7]]\n"
     ]
    }
   ],
   "source": [
    "solve()"
   ]
  }
 ],
 "metadata": {
  "kernelspec": {
   "display_name": "Python 3.6 (tensorflow)",
   "language": "python",
   "name": "tensorflow"
  },
  "language_info": {
   "codemirror_mode": {
    "name": "ipython",
    "version": 3
   },
   "file_extension": ".py",
   "mimetype": "text/x-python",
   "name": "python",
   "nbconvert_exporter": "python",
   "pygments_lexer": "ipython3",
   "version": "3.6.10"
  }
 },
 "nbformat": 4,
 "nbformat_minor": 4
}
