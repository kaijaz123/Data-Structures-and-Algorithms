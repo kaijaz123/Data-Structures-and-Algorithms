{
 "cells": [
  {
   "cell_type": "code",
   "execution_count": null,
   "metadata": {},
   "outputs": [],
   "source": [
    "class queue():\n",
    "    class queuenode():\n",
    "        def __init__(self,next,item):\n",
    "            self.next = next\n",
    "            self.item = item\n",
    "    \n",
    "    def __init__(self):\n",
    "        self.frontPtr = None\n",
    "        self.backPtr = None\n",
    "        self.size = 0\n",
    "    \n",
    "    def isEmpty(self):\n",
    "        if self.backPtr == None:\n",
    "            return True\n",
    "        else:\n",
    "            return False\n",
    "        \n",
    "    def enqueue(self,item):\n",
    "        if self.isEmpty():\n",
    "            self.new = self.queuenode(None,item)\n",
    "            self.frontPtr = self.new\n",
    "            self.backPtr = self.new\n",
    "            self.size+=1\n",
    "            \n",
    "        else:\n",
    "            self.new = self.queuenode(None,item)\n",
    "            self.backPtr.next = self.new\n",
    "            self.backPtr = self.new\n",
    "            self.size+=1\n",
    "    \n",
    "    def getFront(self):\n",
    "        if self.isEmpty():\n",
    "            print(\"Its currently empty\")\n",
    "        return self.frontPtr.item\n",
    "    \n",
    "    def dequeue(self):\n",
    "        if self.isEmpty():\n",
    "            print(\"Its currently empty\")\n",
    "        elif self.frontPtr == self.backPtr:\n",
    "            self.frontPtr = None\n",
    "            self.backPtr = None\n",
    "            self.size-=1\n",
    "        else:\n",
    "            self.frontPtr = self.frontPtr.next\n",
    "            self.size-=1\n",
    "    \n",
    "    def getSize(self):\n",
    "        return self.size\n",
    "        "
   ]
  }
 ],
 "metadata": {
  "kernelspec": {
   "display_name": "Python 3.6 (tensorflow)",
   "language": "python",
   "name": "tensorflow"
  },
  "language_info": {
   "codemirror_mode": {
    "name": "ipython",
    "version": 3
   },
   "file_extension": ".py",
   "mimetype": "text/x-python",
   "name": "python",
   "nbconvert_exporter": "python",
   "pygments_lexer": "ipython3",
   "version": "3.6.10"
  }
 },
 "nbformat": 4,
 "nbformat_minor": 4
}
