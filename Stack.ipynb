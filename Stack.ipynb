{
 "cells": [
  {
   "cell_type": "code",
   "execution_count": 34,
   "metadata": {},
   "outputs": [],
   "source": [
    "class stack():\n",
    "    class node():\n",
    "        def __init__(self,next,item):\n",
    "            self.next = next\n",
    "            self.item = item\n",
    "    \n",
    "    def __init__(self):\n",
    "        self.frontPtr = None\n",
    "        self.backPtr = None\n",
    "        self.size = 0\n",
    "    \n",
    "    def empty(self):\n",
    "        if self.size == 0:\n",
    "            return True\n",
    "        else:\n",
    "            return False\n",
    "    \n",
    "    def push(self,item):\n",
    "        if self.empty():\n",
    "            self.cur = self.node(None,item)\n",
    "            self.frontPtr = self.cur\n",
    "            self.backPtr = self.cur\n",
    "            self.size += 1\n",
    "        else:\n",
    "            self.cur = self.node(None,item)\n",
    "            self.temp = self.frontPtr.next\n",
    "            self.frontPtr.next = self.cur\n",
    "            self.cur.next = self.temp\n",
    "            self.size += 1\n",
    "    \n",
    "    def getSize(self):\n",
    "        return self.size\n",
    "    \n",
    "    def show(self):\n",
    "        self.temp = self.frontPtr\n",
    "        for size in range(self.size):\n",
    "            print(self.temp.item)\n",
    "            self.temp = self.temp.next\n",
    "    \n",
    "    def pop(self):\n",
    "        if self.empty():\n",
    "            return False\n",
    "        \n",
    "        elif self.size == 1:\n",
    "            self.frontPtr = None\n",
    "            self.backPtr = None\n",
    "            self.size -= 1\n",
    "        else:\n",
    "            self.frontPtr = self.frontPtr.next\n",
    "            self.size -= 1"
   ]
  },
  {
   "cell_type": "code",
   "execution_count": 36,
   "metadata": {},
   "outputs": [
    {
     "name": "stdout",
     "output_type": "stream",
     "text": [
      "D\n",
      "C\n",
      "B\n"
     ]
    }
   ],
   "source": [
    "stacker = stack()\n",
    "stacker.push('A')\n",
    "stacker.push('B')\n",
    "stacker.push('C')\n",
    "stacker.push('D')\n",
    "stacker.pop()\n",
    "stacker.show()"
   ]
  }
 ],
 "metadata": {
  "kernelspec": {
   "display_name": "Python 3.6 (tensorflow)",
   "language": "python",
   "name": "tensorflow"
  },
  "language_info": {
   "codemirror_mode": {
    "name": "ipython",
    "version": 3
   },
   "file_extension": ".py",
   "mimetype": "text/x-python",
   "name": "python",
   "nbconvert_exporter": "python",
   "pygments_lexer": "ipython3",
   "version": "3.6.10"
  }
 },
 "nbformat": 4,
 "nbformat_minor": 4
}
