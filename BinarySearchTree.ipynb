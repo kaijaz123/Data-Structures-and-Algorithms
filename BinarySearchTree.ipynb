{
 "cells": [
  {
   "cell_type": "code",
   "execution_count": 1,
   "metadata": {},
   "outputs": [],
   "source": [
    "class BinarySearchTree():\n",
    "    class BinarySearchTreeNode():\n",
    "        def __init__(self, leftchildnode, rightchildnode, item):\n",
    "            self.leftchildnode = leftchildnode\n",
    "            self.rightchildnode = rightchildnode\n",
    "            self.item = item\n",
    "\n",
    "    def __init__(self):\n",
    "        self.root = None\n",
    "\n",
    "    def insert(self, item):\n",
    "        if self.root is None:\n",
    "            self.cur = self.BinarySearchTreeNode(None, None, item)\n",
    "            self.root = self.cur\n",
    "        else:\n",
    "            self.recursiveinsert(self.root, item)\n",
    "\n",
    "    def recursiveinsert(self, node, item):\n",
    "        if node is None:\n",
    "            return\n",
    "        else:\n",
    "            if item < node.item:\n",
    "                if node.leftchildnode is None:\n",
    "                    node.leftchildnode = self.BinarySearchTreeNode(node.leftchildnode,None,item)\n",
    "                else:\n",
    "                    self.recursiveinsert(node.leftchildnode,item)\n",
    "            else:\n",
    "                if node.rightchildnode is None:\n",
    "                    node.rightchildnode = self.BinarySearchTreeNode(None,node.rightchildnode,item)\n",
    "                else:\n",
    "                    self.recursiveinsert(node.rightchildnode,item)\n",
    "\n",
    "    def delete(self, BinarySearchTreeNode, deleteitem):\n",
    "        if deleteitem < BinarySearchTreeNode.item:\n",
    "            self.delete(BinarySearchTreeNode.leftchildnode, deleteitem)\n",
    "        elif deleteitem > BinarySearchTreeNode.item:\n",
    "            self.delete(BinarySearchTreeNode.rightchildnode, deleteitem)\n",
    "        else:\n",
    "            if BinarySearchTreeNode.leftchildnode == None and BinarySearchTreeNode.rightchildnode == None:\n",
    "                BinarySearchTreeNode = None\n",
    "            elif BinarySearchTreeNode.leftchildnode == None:\n",
    "                temp = BinarySearchTreeNode.rightchildnode\n",
    "                BinarySearchTreeNode.item = temp\n",
    "                BinarySearchTreeNode.rightchildnode = None\n",
    "            elif BinarySearchTreeNode.rightchildnode == None:\n",
    "                temp = BinarySearchTreeNode.leftchildnode\n",
    "                BinarySearchTreeNode.item = temp\n",
    "                BinarySearchTreeNode.leftchildnode = None\n",
    "            else:\n",
    "                check , item = self.deletetwosub(BinarySearchTreeNode.rightchildnode, deleteitem)\n",
    "                if check:\n",
    "                    BinarySearchTreeNode.item = item\n",
    "                    BinarySearchTreeNode.rightchildnode = None\n",
    "\n",
    "\n",
    "    def deletetwosub(self, BinarySearchTreeNode, item):\n",
    "        if BinarySearchTreeNode.leftchildnode is None and BinarySearchTreeNode.rightchildnode is None:\n",
    "            item = BinarySearchTreeNode.item\n",
    "            return True,item\n",
    "        else:\n",
    "            self.deletetwosub(BinarySearchTreeNode.leftchildnode, item)\n",
    "\n",
    "    def inorderdisplay(self):\n",
    "        self.recursive_inorder_display(self.root)\n",
    "\n",
    "    def recursive_inorder_display(self, BinarySearchTreeNode):\n",
    "        if BinarySearchTreeNode != None:\n",
    "            self.recursive_inorder_display(BinarySearchTreeNode.leftchildnode)\n",
    "            print(BinarySearchTreeNode.item)\n",
    "            self.recursive_inorder_display(BinarySearchTreeNode.rightchildnode)"
   ]
  },
  {
   "cell_type": "code",
   "execution_count": null,
   "metadata": {},
   "outputs": [],
   "source": []
  },
  {
   "cell_type": "code",
   "execution_count": 2,
   "metadata": {},
   "outputs": [
    {
     "name": "stdout",
     "output_type": "stream",
     "text": [
      "2\n",
      "4\n",
      "5\n",
      "13\n",
      "14\n",
      "17\n"
     ]
    }
   ],
   "source": [
    "tree = BinarySearchTree()\n",
    "tree.insert(13)\n",
    "tree.insert(4)\n",
    "tree.insert(2)\n",
    "tree.insert(5)\n",
    "tree.insert(15)\n",
    "tree.insert(14)\n",
    "tree.insert(17)\n",
    "tree.delete(tree.root,15)\n",
    "tree.inorderdisplay()"
   ]
  }
 ],
 "metadata": {
  "kernelspec": {
   "display_name": "Python 3.6 (tensorflow)",
   "language": "python",
   "name": "tensorflow"
  },
  "language_info": {
   "codemirror_mode": {
    "name": "ipython",
    "version": 3
   },
   "file_extension": ".py",
   "mimetype": "text/x-python",
   "name": "python",
   "nbconvert_exporter": "python",
   "pygments_lexer": "ipython3",
   "version": "3.6.10"
  }
 },
 "nbformat": 4,
 "nbformat_minor": 4
}
