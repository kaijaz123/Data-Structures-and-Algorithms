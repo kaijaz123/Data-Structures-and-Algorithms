{
 "cells": [
  {
   "cell_type": "code",
   "execution_count": 43,
   "metadata": {},
   "outputs": [
    {
     "name": "stdout",
     "output_type": "stream",
     "text": [
      "D\n",
      "C\n",
      "B\n",
      "A\n"
     ]
    }
   ],
   "source": [
    "class Link():\n",
    "    class LinkNode():\n",
    "        def __init__(self,next,item):\n",
    "            self.next = next\n",
    "            self.item = item\n",
    "        \n",
    "    def __init__(self):\n",
    "        self.head = None\n",
    "        self.size = 0\n",
    "    \n",
    "    def insert(self,item):\n",
    "        if self.head == None:\n",
    "            self.cur = self.LinkNode(None,item)\n",
    "            self.head = self.cur\n",
    "            self.head.next = None\n",
    "            self.size+=1\n",
    "        else:\n",
    "            self.cur = self.head\n",
    "            for x in range(self.size - 1):\n",
    "                self.cur = self.cur.next\n",
    "            self.temp = self.LinkNode(None,item)\n",
    "            self.cur.next = self.temp\n",
    "            self.size+=1\n",
    "            \n",
    "    \n",
    "    def display(self):\n",
    "        self.cur = self.head\n",
    "        for x in range(self.size):\n",
    "            print(self.cur.item)\n",
    "            self.cur = self.cur.next\n",
    "    \n",
    "    def delete(self , index):\n",
    "        self.cur = self.head\n",
    "        if index == 1:\n",
    "            self.temp = self.cur.next \n",
    "            self.head = self.temp\n",
    "            self.size -= 1\n",
    "        else:\n",
    "            for x in range(index - 2):\n",
    "                self.cur = self.cur.next\n",
    "            self.temp = self.cur.next\n",
    "            self.cur.next = self.temp.next\n",
    "            self.size -=1\n",
    "    \n",
    "    def reverse(self):\n",
    "        cur = self.head\n",
    "        tmp = self.head\n",
    "        for x in range(self.size):\n",
    "            nxt = cur.next\n",
    "            cur.next = tmp\n",
    "            tmp = cur\n",
    "            cur = nxt\n",
    "        self.head = tmp\n",
    "\n",
    "        \n",
    "            \n",
    "                \n",
    "link = Link()\n",
    "link.insert(\"A\")\n",
    "link.insert(\"B\")\n",
    "link.insert(\"C\")\n",
    "link.insert(\"D\")\n",
    "link.reverse()\n",
    "link.display()"
   ]
  }
 ],
 "metadata": {
  "kernelspec": {
   "display_name": "Python 3.6 (tensorflow)",
   "language": "python",
   "name": "tensorflow"
  },
  "language_info": {
   "codemirror_mode": {
    "name": "ipython",
    "version": 3
   },
   "file_extension": ".py",
   "mimetype": "text/x-python",
   "name": "python",
   "nbconvert_exporter": "python",
   "pygments_lexer": "ipython3",
   "version": "3.6.10"
  }
 },
 "nbformat": 4,
 "nbformat_minor": 4
}
